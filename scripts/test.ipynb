{
 "cells": [
  {
   "cell_type": "code",
   "execution_count": 64,
   "metadata": {},
   "outputs": [],
   "source": [
    "import numpy as np\n",
    "from scipy.spatial.distance import pdist, cdist, squareform\n",
    "from scipy.spatial import distance_matrix\n",
    "from reconstrain.envs.motion_planning import topk, index_to_coo\n",
    "import torch\n",
    "import torch.nn.functional as F\n",
    "\n",
    "rng = np.random.RandomState(0)"
   ]
  },
  {
   "cell_type": "code",
   "execution_count": 83,
   "metadata": {},
   "outputs": [
    {
     "name": "stdout",
     "output_type": "stream",
     "text": [
      "227 µs ± 63.4 µs per loop (mean ± std. dev. of 7 runs, 100 loops each)\n",
      "202 µs ± 1.55 µs per loop (mean ± std. dev. of 7 runs, 100 loops each)\n",
      "469 µs ± 2.56 µs per loop (mean ± std. dev. of 7 runs, 100 loops each)\n",
      "275 µs ± 7.38 µs per loop (mean ± std. dev. of 7 runs, 100 loops each)\n"
     ]
    }
   ],
   "source": [
    "def knn_pdist(positions, K):\n",
    "    dist = squareform(pdist(positions))\n",
    "    idx = topk(dist, K)\n",
    "    return index_to_coo(idx)\n",
    "\n",
    "def knn_cdist(positions, K):\n",
    "    dist = cdist(positions, positions)\n",
    "    idx = topk(dist, K)\n",
    "    return index_to_coo(idx)\n",
    "\n",
    "def knn_distance(positions, K):\n",
    "    dist = distance_matrix(positions, positions)\n",
    "    idx = topk(dist, K)\n",
    "    return index_to_coo(idx)\n",
    "\n",
    "def knn_torch(positions, K):\n",
    "    n_agents = positions.shape[0]\n",
    "    with torch.no_grad():\n",
    "        positions = torch.as_tensor(positions).cuda()\n",
    "        dist = torch.cdist(positions, positions)\n",
    "        adj = torch.zeros_like(dist)\n",
    "        topk = torch.topk(dist, K+1, largest=False, dim=1)[1]\n",
    "        adj[torch.arange(n_agents)[:, None], topk] = 1\n",
    "        adj[topk, torch.arange(n_agents)[:, None]] = 1\n",
    "    return adj\n",
    "\n",
    "n_agents = 100\n",
    "%timeit -n 100 knn_pdist(rng.uniform(size=(n_agents, 2)), 3)\n",
    "%timeit -n 100 knn_cdist(rng.uniform(size=(n_agents, 5)), 3)\n",
    "%timeit -n 100 knn_distance(rng.uniform(size=(n_agents, 5)), 3)\n",
    "%timeit -n 100 knn_torch(rng.uniform(size=(n_agents, 5)), 3)"
   ]
  },
  {
   "cell_type": "code",
   "execution_count": null,
   "metadata": {},
   "outputs": [],
   "source": []
  }
 ],
 "metadata": {
  "interpreter": {
   "hash": "b140ecce862076b05dfcce96cd5c3327fce09836d9b0eb4a0ed615e41b5812d5"
  },
  "kernelspec": {
   "display_name": "Python 3.9.9 64-bit ('reconstrain')",
   "language": "python",
   "name": "python3"
  },
  "language_info": {
   "codemirror_mode": {
    "name": "ipython",
    "version": 3
   },
   "file_extension": ".py",
   "mimetype": "text/x-python",
   "name": "python",
   "nbconvert_exporter": "python",
   "pygments_lexer": "ipython3",
   "version": "3.9.9"
  },
  "orig_nbformat": 4
 },
 "nbformat": 4,
 "nbformat_minor": 2
}
