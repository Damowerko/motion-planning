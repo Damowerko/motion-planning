{
 "cells": [
  {
   "cell_type": "code",
   "execution_count": null,
   "metadata": {},
   "outputs": [],
   "source": [
    "%load_ext autoreload\n",
    "%autoreload 2"
   ]
  },
  {
   "cell_type": "code",
   "execution_count": null,
   "metadata": {},
   "outputs": [],
   "source": [
    "import matplotlib.pyplot as plt\n",
    "from motion_planning.architecture.transformer import (\n",
    "    linear_frequencies,\n",
    "    geometric_frequencies,\n",
    ")\n",
    "import torch\n",
    "\n",
    "period = 10\n",
    "n_frequencies = 16"
   ]
  },
  {
   "cell_type": "code",
   "execution_count": null,
   "metadata": {},
   "outputs": [],
   "source": [
    "frequencies = linear_frequencies(period, n_frequencies)\n",
    "plt.figure(figsize=(20, 5))\n",
    "for i in range(len(frequencies)):\n",
    "    t = torch.linspace(0, period, 1000)\n",
    "    plt.plot(t.numpy(), torch.cos(frequencies[i] * t).numpy(), label=i)\n",
    "plt.legend()\n",
    "plt.title(f\"Linear Frequencies (Period {period}, {n_frequencies} Frequencies)\")\n",
    "plt.show()"
   ]
  },
  {
   "cell_type": "code",
   "execution_count": null,
   "metadata": {},
   "outputs": [],
   "source": [
    "frequencies = geometric_frequencies(period, n_frequencies)\n",
    "plt.figure(figsize=(20, 5))\n",
    "for i in range(len(frequencies)):\n",
    "    t = torch.linspace(0, period, 1000)\n",
    "    plt.plot(t.numpy(), torch.cos(frequencies[i] * t).numpy(), label=i)\n",
    "plt.legend()\n",
    "plt.title(f\"Geometric Frequencies (Period {period}, {n_frequencies} Frequencies)\")\n",
    "plt.show()"
   ]
  },
  {
   "cell_type": "code",
   "execution_count": null,
   "metadata": {},
   "outputs": [],
   "source": [
    "from motion_planning.architecture.transformer import (\n",
    "    RotaryPositionalEncoding,\n",
    "    AbsolutePositionalEncoding,\n",
    ")\n",
    "from itertools import product\n",
    "\n",
    "embed_dim = 128\n",
    "period = 10\n",
    "n_dimensions = 1\n",
    "encodings = [AbsolutePositionalEncoding, RotaryPositionalEncoding]\n",
    "frequency_generators = [\"linear\", \"geometric\"]\n",
    "\n",
    "\n",
    "def plot_encoding(y):\n",
    "    plt.figure()\n",
    "    plt.imshow(y.squeeze().detach().numpy())\n",
    "    plt.xlabel(\"Embedding Dimension\")\n",
    "    plt.ylabel(\"Position\")\n",
    "    plt.colorbar()\n",
    "\n",
    "\n",
    "for encoding_cls, frequency_generator in product(encodings, frequency_generators):\n",
    "    encoding = encoding_cls(embed_dim, period, n_dimensions, frequency_generator)\n",
    "    x = torch.ones(100, embed_dim)\n",
    "    pos = torch.linspace(0, period, 100).unsqueeze(-1)\n",
    "    if isinstance(encoding, AbsolutePositionalEncoding):\n",
    "        y = encoding(pos)\n",
    "    elif isinstance(encoding, RotaryPositionalEncoding):\n",
    "        y = encoding(x, pos)\n",
    "\n",
    "    plot_encoding(y)\n",
    "    plt.title(f\"{type(encoding).__name__} | {frequency_generator}\")\n",
    "    plt.show()"
   ]
  },
  {
   "cell_type": "code",
   "execution_count": null,
   "metadata": {},
   "outputs": [],
   "source": [
    "encoding = AbsolutePositionalEncoding(embed_dim, period, n_dimensions, \"geometric\")\n",
    "x = torch.ones(100, embed_dim)\n",
    "y = x + encoding(pos)\n",
    "\n",
    "for i in range(0, 100, 25):\n",
    "    A = (y[i, :] * y).reshape(-1, embed_dim // 2, 2).sum(-1)\n",
    "    plt.figure()\n",
    "    plt.imshow(A.detach().numpy())\n",
    "    plt.title(f\"Product of {i}th embedding with all embeddings\")\n",
    "    plt.ylabel(\"Position\")\n",
    "    plt.xlabel(\"Embedding Dimension\")"
   ]
  },
  {
   "cell_type": "code",
   "execution_count": null,
   "metadata": {},
   "outputs": [],
   "source": [
    "encoding = RotaryPositionalEncoding(embed_dim, period, n_dimensions, \"geometric\")\n",
    "x = torch.ones(100, embed_dim)\n",
    "y = encoding(x, pos)\n",
    "\n",
    "for i in range(0, 100, 25):\n",
    "    A = (y[i, :] * y).reshape(-1, embed_dim // 2, 2).sum(-1)\n",
    "    plt.figure()\n",
    "    plt.imshow(A.detach().numpy())\n",
    "    plt.title(f\"Product of {i}th embedding with all embeddings\")\n",
    "    plt.ylabel(\"Position\")\n",
    "    plt.xlabel(\"Embedding Dimension\")"
   ]
  }
 ],
 "metadata": {
  "kernelspec": {
   "display_name": "motion-planning",
   "language": "python",
   "name": "python3"
  },
  "language_info": {
   "codemirror_mode": {
    "name": "ipython",
    "version": 3
   },
   "file_extension": ".py",
   "mimetype": "text/x-python",
   "name": "python",
   "nbconvert_exporter": "python",
   "pygments_lexer": "ipython3",
   "version": "3.11.8"
  }
 },
 "nbformat": 4,
 "nbformat_minor": 2
}
