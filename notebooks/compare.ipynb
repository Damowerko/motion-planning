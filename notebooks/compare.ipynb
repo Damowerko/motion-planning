{
 "cells": [
  {
   "cell_type": "code",
   "execution_count": null,
   "metadata": {},
   "outputs": [],
   "source": [
    "from pathlib import Path\n",
    "\n",
    "import matplotlib.pyplot as plt\n",
    "import numpy as np\n",
    "import pandas as pd\n",
    "import seaborn as sns\n",
    "\n",
    "# set theme\n",
    "sns.set_theme(\n",
    "    context=\"paper\",\n",
    "    style=\"ticks\",\n",
    "    font_scale=0.8,\n",
    "    rc={\n",
    "        \"figure.figsize\": (3.5, 2.0),\n",
    "        \"figure.dpi\": 300,\n",
    "        \"savefig.dpi\": 300,\n",
    "        \"text.usetex\": True,\n",
    "        \"lines.linewidth\": 0.7,\n",
    "        \"axes.linewidth\": 0.7,\n",
    "        \"axes.grid\": True,\n",
    "        \"grid.linestyle\": \"--\",\n",
    "        \"grid.linewidth\": 0.5,\n",
    "        \"pdf.fonttype\": 42,\n",
    "        \"figure.autolayout\": True,\n",
    "    },\n",
    ")\n",
    "\n",
    "\n",
    "fig_path = Path(\"../figures\")\n",
    "data_path = Path(\"../data\")\n",
    "\n",
    "models = {\n",
    "    \"1zgs74or\": \"GNN IL\",\n",
    "    \"lo49pixb\": \"GNN RL\",\n",
    "    \"jwtdsmlx\": \"Transformer IL (global)\",\n",
    "    \"cbhe2s17\": \"Transformer IL (local)\",\n",
    "    \"c\": \"Centralized (LSAP)\",\n",
    "    \"capt\": \"Centralized (CAPT)\",\n",
    "    \"d0\": \"Decentralized (0-Hop)\",\n",
    "    \"d1\": \"Decentralized (1-Hop)\",\n",
    "}"
   ]
  },
  {
   "cell_type": "markdown",
   "metadata": {},
   "source": [
    "# Load Data"
   ]
  },
  {
   "cell_type": "code",
   "execution_count": null,
   "metadata": {},
   "outputs": [],
   "source": [
    "dfs = []\n",
    "for model_name in models.keys():\n",
    "    path = data_path / \"test_results\" / model_name\n",
    "    if not path.is_dir():\n",
    "        continue\n",
    "    data = pd.read_parquet(path / f\"{model_name}.parquet\")\n",
    "    dfs.append(data.assign(policy=models[path.name]))\n",
    "df = pd.concat(dfs)\n",
    "df.head()"
   ]
  },
  {
   "cell_type": "markdown",
   "metadata": {},
   "source": [
    "# Plot"
   ]
  },
  {
   "cell_type": "code",
   "execution_count": null,
   "metadata": {},
   "outputs": [],
   "source": [
    "# Create the line plot\n",
    "plt.figure(figsize=(7, 4))\n",
    "sns.lineplot(\n",
    "    data=df.query(\"step < 100\"),\n",
    "    x=\"step\",\n",
    "    y=\"coverage\",\n",
    "    hue=\"policy\",\n",
    "    # errorbar=\"sd\",\n",
    ")\n",
    "plt.xlabel(\"Step\")\n",
    "plt.ylabel(\"Coverage\")\n",
    "\n",
    "# Save the plot\n",
    "plt.savefig(fig_path / \"coverage_comparison.png\")\n",
    "plt.savefig(fig_path / \"coverage_comparison.pdf\")\n",
    "plt.show()"
   ]
  },
  {
   "cell_type": "code",
   "execution_count": null,
   "metadata": {},
   "outputs": [],
   "source": [
    "# count the number of collisions\n",
    "# divide by numer of agents\n",
    "df.groupby([\"policy\", \"trial\"])[[\"collisions\", \"near_collisions\"]].sum().groupby(\n",
    "    \"policy\"\n",
    ").mean()"
   ]
  }
 ],
 "metadata": {
  "kernelspec": {
   "display_name": "motion-planning",
   "language": "python",
   "name": "python3"
  },
  "language_info": {
   "codemirror_mode": {
    "name": "ipython",
    "version": 3
   },
   "file_extension": ".py",
   "mimetype": "text/x-python",
   "name": "python",
   "nbconvert_exporter": "python",
   "pygments_lexer": "ipython3",
   "version": "3.11.8"
  }
 },
 "nbformat": 4,
 "nbformat_minor": 2
}
