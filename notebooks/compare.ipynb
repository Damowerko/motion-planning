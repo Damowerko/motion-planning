{
 "cells": [
  {
   "cell_type": "code",
   "execution_count": null,
   "metadata": {},
   "outputs": [],
   "source": [
    "from pathlib import Path\n",
    "\n",
    "import matplotlib.pyplot as plt\n",
    "import numpy as np\n",
    "import pandas as pd\n",
    "import seaborn as sns\n",
    "\n",
    "# set theme\n",
    "sns.set_theme(\n",
    "    context=\"paper\",\n",
    "    style=\"whitegrid\",\n",
    "    rc={\n",
    "        \"figure.figsize\": (7.0, 3.5),\n",
    "        \"savefig.dpi\": 300,\n",
    "        \"figure.autolayout\": True,\n",
    "    },\n",
    ")\n",
    "\n",
    "\n",
    "fig_path = Path(\"../figures\")\n",
    "\n",
    "models = {\n",
    "    # \"al98mmy0\": \"Optimal Linear Assignment Reward RL Policy\",\n",
    "    # \"j0hapm37\": \"Original (Imitation Learned) Policy\",\n",
    "    \"c\": \"Centralized (LSAP)\",\n",
    "    \"capt\": \"Centralized (CAPT)\",\n",
    "    \"d0\": \"Decentralized (0-Hop)\",\n",
    "    \"d1\": \"Decentralized (1-Hop)\",\n",
    "}"
   ]
  },
  {
   "cell_type": "markdown",
   "metadata": {},
   "source": [
    "# Load Data"
   ]
  },
  {
   "cell_type": "code",
   "execution_count": null,
   "metadata": {},
   "outputs": [],
   "source": [
    "dfs = []\n",
    "for model_name in models.keys():\n",
    "    path = fig_path / \"test_results\" / model_name\n",
    "    if not path.is_dir():\n",
    "        continue\n",
    "\n",
    "    data = pd.read_parquet(path / \"data.parquet\")\n",
    "    dfs.append(data.assign(policy=models[path.name]))\n",
    "df = pd.concat(dfs)\n",
    "df.head()"
   ]
  },
  {
   "cell_type": "markdown",
   "metadata": {},
   "source": [
    "# Plot"
   ]
  },
  {
   "cell_type": "code",
   "execution_count": null,
   "metadata": {},
   "outputs": [],
   "source": [
    "# Create the line plot\n",
    "sns.lineplot(\n",
    "    data=df,\n",
    "    x=\"step\",\n",
    "    y=\"coverage\",\n",
    "    hue=\"policy\",\n",
    "    # errorbar=\"sd\",\n",
    ")\n",
    "plt.xlabel(\"Step\")\n",
    "plt.ylabel(\"Reward\")\n",
    "plt.title(\"Reward Comparison\")\n",
    "\n",
    "# Save the plot\n",
    "plt.savefig(fig_path / \"reward_comparison.png\")\n",
    "plt.savefig(fig_path / \"reward_comparison.pdf\")\n",
    "plt.show()"
   ]
  },
  {
   "cell_type": "code",
   "execution_count": null,
   "metadata": {},
   "outputs": [],
   "source": [
    "# count the number of collisions\n",
    "# divide by numer of agents\n",
    "df.groupby([\"policy\", \"trial\"])[[\"collisions\", \"near_collisions\"]].sum().groupby(\n",
    "    \"policy\"\n",
    ").mean()"
   ]
  },
  {
   "cell_type": "code",
   "execution_count": null,
   "metadata": {},
   "outputs": [],
   "source": []
  }
 ],
 "metadata": {
  "kernelspec": {
   "display_name": "motion-planning",
   "language": "python",
   "name": "python3"
  },
  "language_info": {
   "codemirror_mode": {
    "name": "ipython",
    "version": 3
   },
   "file_extension": ".py",
   "mimetype": "text/x-python",
   "name": "python",
   "nbconvert_exporter": "python",
   "pygments_lexer": "ipython3",
   "version": "3.11.8"
  }
 },
 "nbformat": 4,
 "nbformat_minor": 2
}
