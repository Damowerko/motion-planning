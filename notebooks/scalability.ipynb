{
 "cells": [
  {
   "cell_type": "code",
   "execution_count": null,
   "metadata": {},
   "outputs": [],
   "source": [
    "from pathlib import Path\n",
    "\n",
    "import matplotlib.pyplot as plt\n",
    "import numpy as np\n",
    "import pandas as pd\n",
    "import seaborn as sns\n",
    "import wandb\n",
    "\n",
    "api = wandb.Api()\n",
    "\n",
    "\n",
    "# set theme\n",
    "sns.set_theme(\n",
    "    context=\"paper\",\n",
    "    style=\"ticks\",\n",
    "    font_scale=0.8,\n",
    "    rc={\n",
    "        \"figure.figsize\": (3.5, 2.0),\n",
    "        \"figure.dpi\": 300,\n",
    "        \"savefig.dpi\": 300,\n",
    "        \"text.usetex\": True,\n",
    "        \"lines.linewidth\": 0.7,\n",
    "        \"axes.linewidth\": 0.7,\n",
    "        \"axes.grid\": True,\n",
    "        \"grid.linestyle\": \"--\",\n",
    "        \"grid.linewidth\": 0.5,\n",
    "        \"pdf.fonttype\": 42,\n",
    "    },\n",
    ")\n",
    "\n",
    "model_name = \"jwtdsmlx\"\n",
    "model_path = Path(\"../data/test_results\") / model_name"
   ]
  },
  {
   "cell_type": "markdown",
   "metadata": {},
   "source": [
    "# Scalability Experiments\n",
    "Vary the number of agents and their density. Report the discounted coverage. "
   ]
  },
  {
   "cell_type": "code",
   "execution_count": null,
   "metadata": {},
   "outputs": [],
   "source": [
    "model_name = \"jwtdsmlx\"\n",
    "model_data_dir = Path(\"../data/test_results/\") / model_name"
   ]
  },
  {
   "cell_type": "code",
   "execution_count": null,
   "metadata": {},
   "outputs": [],
   "source": [
    "df = pd.read_parquet(model_data_dir / \"scalability.parquet\").sort_values(\n",
    "    [\"n_agents\", \"area\"], ascending=False\n",
    ")\n",
    "df[\"density\"] = (df[\"n_agents\"] / df[\"area\"]).round(1).apply(lambda x: f\"{x:.1f}\")\n",
    "df[\"time\"] = df[\"step\"] * 0.1"
   ]
  },
  {
   "cell_type": "markdown",
   "metadata": {},
   "source": [
    "## Only vary the number of agents, keep density at 1.0"
   ]
  },
  {
   "cell_type": "code",
   "execution_count": null,
   "metadata": {},
   "outputs": [],
   "source": [
    "# Number of Agents at Density = 1.0 agents per meter squared\n",
    "plt.figure()\n",
    "g = sns.lineplot(\n",
    "    data=(\n",
    "        df.assign(n_agents=df[\"n_agents\"].apply(lambda x: f\"{x:d}\")).query(\n",
    "            \"density=='1.0'\"\n",
    "        )\n",
    "    ),\n",
    "    x=\"time\",\n",
    "    y=\"coverage\",\n",
    "    hue=\"n_agents\",\n",
    "    palette=\"rocket_r\",\n",
    "    linewidth=0.8,\n",
    "    errorbar=None,\n",
    ")\n",
    "sns.move_legend(g, \"lower right\", ncol=1, title=\"\\# of Agents\")\n",
    "plt.ylim(0.50, 1.0)\n",
    "plt.xlabel(\"Time\")\n",
    "plt.ylabel(\"Coverage\")\n",
    "# plt.legend(loc=\"upper center\", bbox_to_anchor=(0.5, -0.15), ncol=3, frameon=False)\n",
    "plt.savefig(model_data_dir / \"generalize_scale.pdf\", bbox_inches=\"tight\")\n",
    "plt.show()"
   ]
  },
  {
   "cell_type": "code",
   "execution_count": null,
   "metadata": {},
   "outputs": [],
   "source": [
    "collisions = (\n",
    "    df.query(\"density=='1.0'\")\n",
    "    .groupby([\"n_agents\", \"trial\"])[\"collisions\"]\n",
    "    .sum()\n",
    "    .groupby(\"n_agents\")\n",
    "    .mean()\n",
    ")\n",
    "# normalize to number of agents\n",
    "collisions / collisions.index * 100"
   ]
  },
  {
   "cell_type": "markdown",
   "metadata": {},
   "source": [
    "## Vary the density only, n_agents = 100"
   ]
  },
  {
   "cell_type": "code",
   "execution_count": null,
   "metadata": {},
   "outputs": [],
   "source": [
    "# Number of Agents at Density = 1.0 agents per meter squared\n",
    "plt.figure()\n",
    "g = sns.lineplot(\n",
    "    data=df.query(\"n_agents==100\").sort_values(\"area\", ascending=True),\n",
    "    x=\"time\",\n",
    "    y=\"coverage\",\n",
    "    hue=\"density\",\n",
    "    style=\"density\",\n",
    "    palette=\"mako\",\n",
    "    linewidth=0.8,\n",
    "    errorbar=\"sd\",\n",
    ")\n",
    "sns.move_legend(g, \"lower right\", ncol=1, title=\"Agent Density\")\n",
    "plt.ylim(0.5, 1.0)\n",
    "plt.xlabel(\"Time\")\n",
    "plt.ylabel(\"Coverage\")\n",
    "# plt.legend(loc=\"upper center\", bbox_to_anchor=(0.5, -0.15), ncol=3, frameon=False)\n",
    "plt.savefig(model_data_dir / \"generalize_density.pdf\", bbox_inches=\"tight\")\n",
    "plt.show()"
   ]
  },
  {
   "cell_type": "code",
   "execution_count": null,
   "metadata": {},
   "outputs": [],
   "source": [
    "df.query(\"n_agents==100\").groupby([\"density\", \"trial\"])[\"collisions\"].sum().groupby(\n",
    "    \"density\"\n",
    ").mean()"
   ]
  },
  {
   "cell_type": "markdown",
   "metadata": {},
   "source": [
    "## Now vary both number of agents and density, report coverage"
   ]
  },
  {
   "cell_type": "code",
   "execution_count": null,
   "metadata": {},
   "outputs": [],
   "source": [
    "gamma = 0.99\n",
    "df[\"discount\"] = gamma ** df[\"step\"]\n",
    "\n",
    "data: pd.DataFrame = (\n",
    "    df.groupby([\"n_agents\", \"density\", \"trial\"])\n",
    "    .apply(\n",
    "        lambda df: np.average(df[\"coverage\"], weights=df[\"discount\"]),\n",
    "        include_groups=False,\n",
    "    )\n",
    "    .rename(\"discounted_coverage\")  # type: ignore\n",
    "    .to_frame()\n",
    "    .sort_values(\"density\", ascending=False)\n",
    ")\n",
    "\n",
    "\n",
    "# Number of Agents at Density = 1.0 agents per meter squared\n",
    "plt.figure()\n",
    "g = sns.lineplot(\n",
    "    data=data,\n",
    "    x=\"n_agents\",\n",
    "    y=\"discounted_coverage\",\n",
    "    hue=\"density\",\n",
    "    style=\"density\",\n",
    "    markers=\".\",\n",
    "    errorbar=\"sd\",\n",
    "    palette=\"mako\",\n",
    ")\n",
    "sns.move_legend(g, \"lower right\", title=\"Agent Density\")\n",
    "# plt.ylim(0.80, 0.95)\n",
    "plt.xlabel(\"\\# of Agents\")\n",
    "plt.ylabel(\"Average Discounted Coverage\")\n",
    "plt.savefig(model_data_dir / \"generalize_scale_density.pdf\", bbox_inches=\"tight\")\n",
    "plt.show()"
   ]
  }
 ],
 "metadata": {
  "kernelspec": {
   "display_name": "motion-planning",
   "language": "python",
   "name": "python3"
  },
  "language_info": {
   "codemirror_mode": {
    "name": "ipython",
    "version": 3
   },
   "file_extension": ".py",
   "mimetype": "text/x-python",
   "name": "python",
   "nbconvert_exporter": "python",
   "pygments_lexer": "ipython3",
   "version": "3.11.8"
  }
 },
 "nbformat": 4,
 "nbformat_minor": 2
}
