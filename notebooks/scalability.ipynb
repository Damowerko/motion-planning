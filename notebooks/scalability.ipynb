{
 "cells": [
  {
   "cell_type": "code",
   "execution_count": null,
   "metadata": {},
   "outputs": [],
   "source": [
    "from pathlib import Path\n",
    "\n",
    "import matplotlib.pyplot as plt\n",
    "import numpy as np\n",
    "import pandas as pd\n",
    "import seaborn as sns\n",
    "\n",
    "# set theme\n",
    "sns.set_theme(\n",
    "    context=\"paper\",\n",
    "    style=\"whitegrid\",\n",
    "    rc={\n",
    "        \"figure.figsize\": (7.0, 3.5),\n",
    "        \"savefig.dpi\": 300,\n",
    "        \"figure.autolayout\": True,\n",
    "    },\n",
    ")\n",
    "\n",
    "\n",
    "fig_path = Path(\"../figures\")\n",
    "\n",
    "file = \"scalability.parquet\""
   ]
  },
  {
   "cell_type": "markdown",
   "metadata": {},
   "source": [
    "# Load Data"
   ]
  },
  {
   "cell_type": "code",
   "execution_count": null,
   "metadata": {},
   "outputs": [],
   "source": [
    "data = pd.read_parquet(fig_path / file)\n",
    "data"
   ]
  },
  {
   "cell_type": "markdown",
   "metadata": {},
   "source": [
    "# Plot"
   ]
  },
  {
   "cell_type": "code",
   "execution_count": null,
   "metadata": {},
   "outputs": [],
   "source": [
    "# Create the line plot\n",
    "crosssections = pd.concat(\n",
    "    [data[data[\"step\"] == 24],\n",
    "    data[data[\"step\"] == 49],\n",
    "    data[data[\"step\"] == 99],\n",
    "    data[data[\"step\"] == 149],\n",
    "    data[data[\"step\"] == 199],]\n",
    ")\n",
    "crosssections[\"step\"] += 1\n",
    "crosssections[\"Time\"] = crosssections[\"step\"] * 0.1\n",
    "crosssections = crosssections.groupby([\"n_agents\", \"step\"]).mean()\n",
    "\n",
    "sns.relplot(\n",
    "    data=crosssections,\n",
    "    x=\"n_agents\",\n",
    "    y=\"coverage\",\n",
    "    # hue=\"step\",\n",
    "    style=\"Time\",\n",
    "    kind=\"line\",\n",
    "    errorbar=\"se\",\n",
    "    aspect=1.5,\n",
    ")\n",
    "plt.xlabel(\"$N$\")\n",
    "plt.xlim(0, 500)\n",
    "plt.ylabel(\"$R$\")\n",
    "plt.ylim(0, 1)\n",
    "\n",
    "# Save the plot\n",
    "plt.savefig(fig_path / \"coverage_transfer_final_scaled.png\")\n",
    "plt.savefig(fig_path / \"coverage_transfer_final_scaled.pdf\")\n",
    "plt.show()"
   ]
  }
 ],
 "metadata": {
  "kernelspec": {
   "display_name": "motion-planning",
   "language": "python",
   "name": "python3"
  },
  "language_info": {
   "codemirror_mode": {
    "name": "ipython",
    "version": 3
   },
   "file_extension": ".py",
   "mimetype": "text/x-python",
   "name": "python",
   "nbconvert_exporter": "python",
   "pygments_lexer": "ipython3",
   "version": "3.11.8"
  }
 },
 "nbformat": 4,
 "nbformat_minor": 2
}
