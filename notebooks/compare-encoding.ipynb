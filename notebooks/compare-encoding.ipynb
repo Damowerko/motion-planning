{
 "cells": [
  {
   "cell_type": "code",
   "execution_count": null,
   "metadata": {},
   "outputs": [],
   "source": [
    "%load_ext autoreload\n",
    "%autoreload 2"
   ]
  },
  {
   "cell_type": "code",
   "execution_count": null,
   "metadata": {},
   "outputs": [],
   "source": [
    "import pandas as pd\n",
    "import wandb\n",
    "from matplotlib import pyplot as plt\n",
    "import seaborn as sns\n",
    "\n",
    "sns.set_theme(\n",
    "    context=\"paper\",\n",
    "    style=\"ticks\",\n",
    "    font_scale=0.8,\n",
    "    rc={\n",
    "        \"figure.figsize\": (3.5, 2.0),\n",
    "        \"figure.dpi\": 300,\n",
    "        \"savefig.dpi\": 300,\n",
    "        \"text.usetex\": True,\n",
    "        \"lines.linewidth\": 0.7,\n",
    "        \"axes.linewidth\": 0.7,\n",
    "        \"axes.grid\": True,\n",
    "        \"grid.linestyle\": \"--\",\n",
    "        \"grid.linewidth\": 0.5,\n",
    "        \"pdf.fonttype\": 42,\n",
    "    },\n",
    ")"
   ]
  },
  {
   "cell_type": "code",
   "execution_count": null,
   "metadata": {},
   "outputs": [],
   "source": [
    "# Initialize a W&B API object\n",
    "api = wandb.Api()\n",
    "\n",
    "runs = api.runs(\n",
    "    path=\"damowerko-academic/motion-planning\",\n",
    "    filters={\n",
    "        \"tags\": \"compare-encoding-2\",\n",
    "        \"state\": \"finished\",\n",
    "    },\n",
    "    order=\"-created_at\",\n",
    ")\n",
    "ids = [run.id for run in runs]\n",
    "configs = {run.id: run.config for run in runs}\n",
    "paths = [\"/\".join(run.path) for run in runs]\n",
    "# generate commands to test agent generalization\n",
    "for path in paths:\n",
    "    print(f\"python scripts/test.py test --checkpoint wandb://{path}\")\n",
    "    print(f\"python scripts/scalability.py --checkpoint wandb://{path}\")"
   ]
  },
  {
   "cell_type": "code",
   "execution_count": null,
   "metadata": {},
   "outputs": [],
   "source": [
    "df_test = pd.concat(\n",
    "    [\n",
    "        pd.read_parquet(f\"../data/test_results/{id}/{id}.parquet\").assign(id=id)\n",
    "        for id in ids\n",
    "    ]\n",
    ")\n",
    "df_scalability = pd.concat(\n",
    "    [\n",
    "        pd.read_parquet(f\"../data/test_results/{id}/scalability.parquet\").assign(id=id)\n",
    "        for id in ids\n",
    "    ]\n",
    ")"
   ]
  },
  {
   "cell_type": "code",
   "execution_count": null,
   "metadata": {},
   "outputs": [],
   "source": [
    "# give each run a name\n",
    "names = {\n",
    "    id: f\"{config['encoding_type']} | {config['encoding_period']} | {config['encoding_frequencies']}\"\n",
    "    for id, config in configs.items()\n",
    "}\n",
    "df_scalability = df_scalability.assign(\n",
    "    name=df_scalability[\"id\"].map(lambda x: names[x]),\n",
    "    encoding_type=df_scalability[\"id\"].map(lambda x: configs[x][\"encoding_type\"]),\n",
    "    encoding_period=df_scalability[\"id\"].map(lambda x: configs[x][\"encoding_period\"]),\n",
    "    encoding_frequencies=df_scalability[\"id\"].map(\n",
    "        lambda x: configs[x][\"encoding_frequencies\"]\n",
    "    ),\n",
    "    attention_window=df_scalability[\"id\"].map(\n",
    "        lambda x: configs[x].get(\"attention_window\", 0.0)\n",
    "    ),\n",
    ")"
   ]
  },
  {
   "cell_type": "code",
   "execution_count": null,
   "metadata": {},
   "outputs": [],
   "source": [
    "for period in [10.0, 20.0]:\n",
    "    sns.relplot(\n",
    "        data=df_scalability.query(\n",
    "            f\"n_agents in [100, 1000] and encoding_period == {period} and attention_window == 0.0\"\n",
    "        ),\n",
    "        x=\"step\",\n",
    "        y=\"coverage\",\n",
    "        hue=\"encoding_type\",\n",
    "        col=\"n_agents\",\n",
    "        row=\"encoding_frequencies\",\n",
    "        kind=\"line\",\n",
    "    )\n",
    "    print(f\"Coverage with encoding_period={period}\")\n",
    "    plt.show()"
   ]
  },
  {
   "cell_type": "markdown",
   "metadata": {},
   "source": [
    "## Ablation with Geometric Frequencies"
   ]
  },
  {
   "cell_type": "code",
   "execution_count": null,
   "metadata": {},
   "outputs": [],
   "source": [
    "name_dict = {\n",
    "    \"2n07h71c\": \"rotary + window\",\n",
    "    \"gdgmofog\": \"rotary\",\n",
    "    \"o5mwohl0\": \"absolute + window\",\n",
    "    \"xmyposrs\": \"absolute\",\n",
    "    \"o1cnaiy8\": \"mlp + window\",\n",
    "    \"72l28hqh\": \"mlp\",\n",
    "}\n",
    "data = (\n",
    "    df_scalability[df_scalability[\"id\"].isin(name_dict.keys())]\n",
    "    .query(f\"n_agents in [100, 1000]\")\n",
    "    .assign(name=lambda x: x[\"id\"].map(lambda x: name_dict[x]))\n",
    ")\n",
    "\n",
    "sns.relplot(\n",
    "    data=data,\n",
    "    x=\"step\",\n",
    "    y=\"coverage\",\n",
    "    hue=\"name\",\n",
    "    col=\"n_agents\",\n",
    "    kind=\"line\",\n",
    ")\n",
    "plt.show()"
   ]
  },
  {
   "cell_type": "markdown",
   "metadata": {},
   "source": [
    "# Explaining Differences Between Positional Encodings"
   ]
  },
  {
   "cell_type": "markdown",
   "metadata": {},
   "source": [
    "## Linear vs Geometric Frequency Set"
   ]
  },
  {
   "cell_type": "code",
   "execution_count": null,
   "metadata": {},
   "outputs": [],
   "source": [
    "import matplotlib.pyplot as plt\n",
    "from motion_planning.architecture.transformer import (\n",
    "    linear_frequencies,\n",
    "    geometric_frequencies,\n",
    ")\n",
    "import torch\n",
    "\n",
    "period = 10\n",
    "n_frequencies = 16"
   ]
  },
  {
   "cell_type": "code",
   "execution_count": null,
   "metadata": {},
   "outputs": [],
   "source": [
    "frequencies = linear_frequencies(period, n_frequencies)\n",
    "plt.figure(figsize=(20, 5))\n",
    "for idx in range(len(frequencies)):\n",
    "    t = torch.linspace(0, period, 1000)\n",
    "    plt.plot(t.numpy(), torch.cos(frequencies[idx] * t).numpy(), label=idx)\n",
    "plt.legend()\n",
    "plt.title(f\"Linear Frequencies (Period {period}, {n_frequencies} Frequencies)\")\n",
    "plt.show()"
   ]
  },
  {
   "cell_type": "code",
   "execution_count": null,
   "metadata": {},
   "outputs": [],
   "source": [
    "frequencies = geometric_frequencies(period, n_frequencies)\n",
    "plt.figure(figsize=(20, 5))\n",
    "for idx in range(len(frequencies)):\n",
    "    t = torch.linspace(0, period, 1000)\n",
    "    plt.plot(t.numpy(), torch.cos(frequencies[idx] * t).numpy(), label=idx)\n",
    "plt.legend()\n",
    "plt.title(f\"Geometric Frequencies (Period {period}, {n_frequencies} Frequencies)\")\n",
    "plt.show()"
   ]
  },
  {
   "cell_type": "markdown",
   "metadata": {},
   "source": [
    "# Visualize Absolute vs Rotary Encodings"
   ]
  },
  {
   "cell_type": "code",
   "execution_count": null,
   "metadata": {},
   "outputs": [],
   "source": [
    "from motion_planning.architecture.transformer import (\n",
    "    RotaryPositionalEncoding,\n",
    "    AbsolutePositionalEncoding,\n",
    ")\n",
    "from itertools import product\n",
    "\n",
    "embed_dim = 64\n",
    "period = 10\n",
    "length = 64\n",
    "n_dimensions = 1\n",
    "encodings = [AbsolutePositionalEncoding, RotaryPositionalEncoding]\n",
    "frequency_generators = [\"linear\", \"geometric\"]\n",
    "\n",
    "\n",
    "fig, ax = plt.subplots(len(encodings), len(frequency_generators), figsize=(5, 5))\n",
    "for i, j in product(range(len(encodings)), range(len(frequency_generators))):\n",
    "    encoding_cls = encodings[i]\n",
    "    frequency_generator = frequency_generators[j]\n",
    "\n",
    "    encoding = encoding_cls(embed_dim, period, n_dimensions, frequency_generator)\n",
    "    x = torch.ones(length, embed_dim)\n",
    "    pos = torch.linspace(0, period, length).unsqueeze(-1)\n",
    "    if isinstance(encoding, AbsolutePositionalEncoding):\n",
    "        y = encoding(pos)\n",
    "    elif isinstance(encoding, RotaryPositionalEncoding):\n",
    "        y = encoding(x, pos)\n",
    "\n",
    "    ax[i, j].imshow(y.squeeze().detach().numpy())\n",
    "    ax[i, j].set_title(f\"{type(encoding).__name__} : {frequency_generator}\")\n",
    "    if i == 1:\n",
    "        ax[i, j].set_xlabel(\"Embedding Dimension\")\n",
    "    if j == 0:\n",
    "        ax[i, j].set_ylabel(\"Position\")\n",
    "plt.show()"
   ]
  },
  {
   "cell_type": "markdown",
   "metadata": {},
   "source": [
    "## Visualizing Products of Keys and Queries\n",
    "By visualizing the products of keys and queries, we can see that rotary encodings are shift-equivariant, while absolute encodings are not.\n",
    "In the below example we have a 1D input sequence with length 100. Their positions evenly distributed in $[0, 10]$ and positional encodings with period $10$.\n",
    "Consider $q_i$ and $k_j$ the query at the $i$-th index and the key at the $j$-th index, respectively. The input signal is simply a signal of all ones."
   ]
  },
  {
   "cell_type": "code",
   "execution_count": null,
   "metadata": {},
   "outputs": [],
   "source": [
    "n_plots = 4\n",
    "fig, ax = plt.subplots(2, n_plots, figsize=(10, 10))\n",
    "x = torch.ones(length, embed_dim)\n",
    "\n",
    "\n",
    "encoding = AbsolutePositionalEncoding(embed_dim, period, n_dimensions, \"linear\")\n",
    "y_absolute = x + encoding(pos)\n",
    "encoding = RotaryPositionalEncoding(embed_dim, period, n_dimensions, \"linear\")\n",
    "y_rotary = encoding(x, pos)\n",
    "\n",
    "for i, idx in enumerate(range(0, embed_dim, embed_dim // n_plots)):\n",
    "    ax[0, i].set_title(f\"Absolute: $q_j \\odot k_{{{idx}}}$\")\n",
    "    ax[1, i].set_title(f\"Rotary: $q_j \\odot k_{{{idx}}}$\")\n",
    "    if i == 0:\n",
    "        ax[0, i].set_ylabel(\"j\")\n",
    "        ax[1, i].set_ylabel(\"j\")\n",
    "    ax[1, i].set_xlabel(\"Embedding Dimension\")\n",
    "\n",
    "    A = (y_absolute[idx, :] * y_absolute).reshape(-1, embed_dim // 2, 2).sum(-1)\n",
    "    ax[0, i].imshow(A.detach().numpy())\n",
    "\n",
    "    A = (y_rotary[idx, :] * y_rotary).reshape(-1, embed_dim // 2, 2).sum(-1)\n",
    "    ax[1, i].imshow(A.detach().numpy())"
   ]
  }
 ],
 "metadata": {
  "kernelspec": {
   "display_name": "motion-planning",
   "language": "python",
   "name": "python3"
  },
  "language_info": {
   "codemirror_mode": {
    "name": "ipython",
    "version": 3
   },
   "file_extension": ".py",
   "mimetype": "text/x-python",
   "name": "python",
   "nbconvert_exporter": "python",
   "pygments_lexer": "ipython3",
   "version": "3.11.8"
  }
 },
 "nbformat": 4,
 "nbformat_minor": 2
}
