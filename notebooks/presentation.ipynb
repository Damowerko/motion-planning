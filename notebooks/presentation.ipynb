{
 "cells": [
  {
   "cell_type": "code",
   "execution_count": null,
   "metadata": {},
   "outputs": [],
   "source": [
    "%load_ext autoreload\n",
    "%autoreload 2"
   ]
  },
  {
   "cell_type": "code",
   "execution_count": null,
   "metadata": {},
   "outputs": [],
   "source": [
    "import pandas as pd\n",
    "import wandb\n",
    "from matplotlib import pyplot as plt\n",
    "import seaborn as sns\n",
    "from pathlib import Path\n",
    "\n",
    "sns.set_theme(\n",
    "    context=\"paper\",\n",
    "    style=\"ticks\",\n",
    "    font_scale=0.8,\n",
    "    rc={\n",
    "        \"figure.figsize\": (3.5, 2.0),\n",
    "        \"figure.dpi\": 300,\n",
    "        \"savefig.dpi\": 300,\n",
    "        \"text.usetex\": True,\n",
    "        \"lines.linewidth\": 0.7,\n",
    "        \"axes.linewidth\": 0.7,\n",
    "        \"axes.grid\": True,\n",
    "        \"grid.linestyle\": \"--\",\n",
    "        \"grid.linewidth\": 0.5,\n",
    "        \"pdf.fonttype\": 42,\n",
    "    },\n",
    ")"
   ]
  },
  {
   "cell_type": "code",
   "execution_count": null,
   "metadata": {},
   "outputs": [],
   "source": [
    "# Initialize a W&B API object\n",
    "api = wandb.Api()\n",
    "\n",
    "tags = [\n",
    "    \"compare-encoding-omniscient\",\n",
    "    \"compare-encoding-local\",\n",
    "    \"compare-encoding-connected-mask\",\n",
    "]\n",
    "run_sets = {}\n",
    "\n",
    "for tag in tags:\n",
    "    runs = api.runs(\n",
    "        path=\"damowerko-academic/motion-planning\",\n",
    "        filters={\n",
    "            \"tags\": tag,\n",
    "            \"state\": \"finished\",\n",
    "        },\n",
    "        order=\"-created_at\",\n",
    "    )\n",
    "    run_sets[tag] = runs\n",
    "    ids = [run.id for run in runs]\n",
    "    configs = {run.id: run.config for run in runs}\n",
    "    paths = [\"/\".join(run.path) for run in runs]\n",
    "    for path, id in zip(paths, ids):\n",
    "        print(\n",
    "            f\"./cluster/run.sh ./scripts/test.py --checkpoint wandb://{path} --n_trials 100\"\n",
    "        )"
   ]
  },
  {
   "cell_type": "code",
   "execution_count": null,
   "metadata": {},
   "outputs": [],
   "source": [
    "for policy in [\"c\", \"c_sq\", \"d1\", \"d1_sq\", \"d0\", \"capt\"]:\n",
    "    print(f\"python ./scripts/baseline.py --policy {policy} --n_trials 100\")"
   ]
  }
 ],
 "metadata": {
  "kernelspec": {
   "display_name": "motion-planning",
   "language": "python",
   "name": "python3"
  },
  "language_info": {
   "codemirror_mode": {
    "name": "ipython",
    "version": 3
   },
   "file_extension": ".py",
   "mimetype": "text/x-python",
   "name": "python",
   "nbconvert_exporter": "python",
   "pygments_lexer": "ipython3",
   "version": "3.11.8"
  }
 },
 "nbformat": 4,
 "nbformat_minor": 2
}
