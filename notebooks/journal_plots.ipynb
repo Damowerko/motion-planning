{
 "cells": [
  {
   "cell_type": "code",
   "execution_count": null,
   "metadata": {},
   "outputs": [],
   "source": [
    "%load_ext autoreload\n",
    "%autoreload 2"
   ]
  },
  {
   "cell_type": "code",
   "execution_count": null,
   "metadata": {},
   "outputs": [],
   "source": [
    "from pathlib import Path\n",
    "\n",
    "import matplotlib.pyplot as plt\n",
    "import numpy as np\n",
    "import pandas as pd\n",
    "import seaborn as sns\n",
    "import wandb\n",
    "from motion_planning.plot.plot import set_theme_paper\n",
    "\n",
    "set_theme_paper()\n",
    "api = wandb.Api()\n",
    "fig_path = Path(\"../figures\")\n",
    "data_path = Path(\"../data/test_results\")"
   ]
  },
  {
   "cell_type": "code",
   "execution_count": null,
   "metadata": {},
   "outputs": [],
   "source": [
    "# from motion_planning.plot.compare_design import configs_from_tag\n",
    "\n",
    "# for tag in [\n",
    "#     \"compare-encoding-omniscient\",\n",
    "#     \"compare-encoding-local\",\n",
    "#     \"compare-encoding-connected-mask\",\n",
    "# ]:\n",
    "#     for id, config in configs_from_tag(tag).items():\n",
    "#         print(\n",
    "#             f\"./cluster/run.sh scripts/test.py --checkpoint wandb://damowerko-academic/motion-planning/{id} --n_trials 100 --n_workers 20\"\n",
    "#         )"
   ]
  },
  {
   "cell_type": "code",
   "execution_count": null,
   "metadata": {},
   "outputs": [],
   "source": [
    "from motion_planning.plot.data import df_from_tag, aggregate_results\n",
    "\n",
    "tag = \"compare-encoding-connected-mask\"\n",
    "df_basic = aggregate_results(df_from_tag(tag, \"basic\"))\n",
    "df_scalability = aggregate_results(df_from_tag(tag, \"scalability\"))"
   ]
  },
  {
   "cell_type": "code",
   "execution_count": null,
   "metadata": {},
   "outputs": [],
   "source": [
    "from motion_planning.plot.plot import plot_scenarios_initialization\n",
    "\n",
    "fig = plot_scenarios_initialization()\n",
    "fig"
   ]
  },
  {
   "cell_type": "code",
   "execution_count": null,
   "metadata": {},
   "outputs": [],
   "source": [
    "from motion_planning.plot.data import load_baseline, load_test\n",
    "from motion_planning.plot.plot import plot_scenarios\n",
    "\n",
    "df_scenarios = pd.concat(\n",
    "    [\n",
    "        aggregate_results(load_baseline(\"d8_sq\", \"scenarios\")),\n",
    "        aggregate_results(\n",
    "            load_test(\"khpb9hkx\", \"scenarios\").assign(policy=\"TF Masked\")\n",
    "        ),\n",
    "    ],\n",
    "    ignore_index=True,\n",
    ")\n",
    "plot_scenarios(df_scenarios)"
   ]
  },
  {
   "cell_type": "code",
   "execution_count": null,
   "metadata": {},
   "outputs": [],
   "source": [
    "from motion_planning.plot.plot import plot_scenarios_terminal\n",
    "\n",
    "df_scenarios.query(\"time == time.max() and policy == 'TF Masked'\")\n",
    "\n",
    "plot_scenarios_terminal(df_scenarios)"
   ]
  },
  {
   "cell_type": "code",
   "execution_count": null,
   "metadata": {},
   "outputs": [],
   "source": [
    "from motion_planning.plot.plot import plot_delay_over_time, plot_delay_terminal\n",
    "from motion_planning.plot.data import load_baselines, load_test\n",
    "\n",
    "# delays\n",
    "models = {\n",
    "    \"7969mfvs\": \"Local Transformer\",\n",
    "    \"khpb9hkx\": \"Masked Transformer\",\n",
    "}\n",
    "df_delay = pd.concat(\n",
    "    [\n",
    "        aggregate_results(load_test(model, \"delay\")).assign(policy=name)\n",
    "        for model, name in models.items()\n",
    "    ],\n",
    "    ignore_index=True,\n",
    ").query(\"delay_s > 0 and delay_s in [0.2, 0.4, 0.6, 0.8, 1.0]\")\n",
    "plot_delay_over_time(df_delay)"
   ]
  },
  {
   "cell_type": "code",
   "execution_count": null,
   "metadata": {},
   "outputs": [],
   "source": [
    "plot_delay_terminal(df_delay)"
   ]
  },
  {
   "cell_type": "code",
   "execution_count": null,
   "metadata": {},
   "outputs": [],
   "source": [
    "from motion_planning.plot.plot import plot_comparison\n",
    "\n",
    "baseline_policies = [\"LSAP\", \"DLSAP-0\", \"DLSAP-4\", \"DLSAP-8\"]\n",
    "df_baseline = aggregate_results(load_baselines()).query(\n",
    "    f\"policy in {baseline_policies}\"\n",
    ")\n",
    "models = {\n",
    "    \"8hlpz45j\": \"TF Clairvoyant\",\n",
    "    \"xdbf9fux\": \"TF Local\",\n",
    "    \"o5tb680f\": \"TF Masked\",\n",
    "}\n",
    "df_models = pd.concat(\n",
    "    [\n",
    "        aggregate_results(load_test(model, \"basic\")).assign(policy=name)\n",
    "        for model, name in models.items()\n",
    "    ]\n",
    ")\n",
    "df_decentralized = (\n",
    "    aggregate_results(load_test(\"khpb9hkx\", \"delay\"))\n",
    "    .assign(policy=\"TF Delayed\")\n",
    "    .query(\"delay_s == 0.1\")\n",
    ")\n",
    "\n",
    "df_compare = pd.concat([df_baseline, df_models, df_decentralized], ignore_index=True)\n",
    "\n",
    "plot_comparison(df_compare)"
   ]
  },
  {
   "cell_type": "code",
   "execution_count": null,
   "metadata": {},
   "outputs": [],
   "source": [
    "from motion_planning.plot.plot import (\n",
    "    plot_encoding_comparison,\n",
    "    plot_encoding_scalability,\n",
    ")\n",
    "\n",
    "display(plot_encoding_comparison(df_basic))\n",
    "display(plot_encoding_scalability(df_scalability))"
   ]
  },
  {
   "cell_type": "code",
   "execution_count": null,
   "metadata": {},
   "outputs": [],
   "source": [
    "import matplotlib.pyplot as plt\n",
    "import numpy as np\n",
    "from scipy.sparse.csgraph import connected_components\n",
    "import networkx as nx\n",
    "\n",
    "rng = np.random.RandomState(42)\n",
    "comm_range = 2.0\n",
    "attention_window = 3.0\n",
    "\n",
    "x = np.array(\n",
    "    [\n",
    "        [0.5, 5.5],\n",
    "        [1.5, 4],\n",
    "        [2.5, 3],\n",
    "        [4, 1],\n",
    "        [4.7, 2],\n",
    "        [5.5, 1.0],\n",
    "    ]\n",
    ")\n",
    "attention_matrix = 70 * rng.rand(6, 6) + 30\n",
    "dist = np.linalg.norm(x[:, None, :] - x[None, :, :], axis=-1)\n",
    "\n",
    "comm_mask = dist < comm_range\n",
    "attention_window = dist < attention_window\n",
    "components = connected_components(comm_mask)[1]\n",
    "connected_mask = components[:, None] == components[None, :]\n",
    "attention_masked = attention_matrix * attention_window * connected_mask\n",
    "\n",
    "# The masks to a .dat file for PGFPlots to read from.\n",
    "path = fig_path / \"journal\" / \"architecture\" / \"attention_data\"\n",
    "path.mkdir(exist_ok=True, parents=True)\n",
    "np.savetxt(path / \"positions.dat\", x, fmt=\"%.2f %.2f\")\n",
    "np.savetxt(path / \"comm_mask.dat\", comm_mask, fmt=\"%d\")\n",
    "np.savetxt(path / \"attention_window.dat\", attention_window, fmt=\"%d\")\n",
    "np.savetxt(path / \"connected_mask.dat\", connected_mask, fmt=\"%d\")\n",
    "np.savetxt(path / \"attention_full.dat\", attention_matrix, fmt=\"%d\")\n",
    "np.savetxt(path / \"attention_masked.dat\", attention_masked, fmt=\"%d\")\n",
    "\n",
    "f, ax = plt.subplots(1, 5, figsize=(12, 2))\n",
    "g = nx.from_numpy_array(comm_mask)\n",
    "g.remove_edges_from(nx.selfloop_edges(g))\n",
    "nx.draw(g, ax=ax[0], with_labels=False, pos=x, node_size=10)  # type: ignore\n",
    "ax[1].imshow(attention_matrix, cmap=\"Blues\")\n",
    "ax[2].imshow(attention_window, cmap=\"Reds\")\n",
    "ax[3].imshow(connected_mask, cmap=\"Greens\")\n",
    "ax[4].imshow(attention_masked, cmap=\"Blues\")\n",
    "plt.show()"
   ]
  }
 ],
 "metadata": {
  "kernelspec": {
   "display_name": "motion-planning",
   "language": "python",
   "name": "python3"
  },
  "language_info": {
   "codemirror_mode": {
    "name": "ipython",
    "version": 3
   },
   "file_extension": ".py",
   "mimetype": "text/x-python",
   "name": "python",
   "nbconvert_exporter": "python",
   "pygments_lexer": "ipython3",
   "version": "3.11.8"
  }
 },
 "nbformat": 4,
 "nbformat_minor": 2
}
