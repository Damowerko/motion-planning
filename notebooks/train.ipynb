{
 "cells": [
  {
   "cell_type": "code",
   "execution_count": null,
   "metadata": {},
   "outputs": [],
   "source": [
    "from pathlib import Path\n",
    "\n",
    "import matplotlib.pyplot as plt\n",
    "import numpy as np\n",
    "import pandas as pd\n",
    "import seaborn as sns\n",
    "\n",
    "# set theme\n",
    "sns.set_theme(\n",
    "    context=\"paper\",\n",
    "    style=\"whitegrid\",\n",
    "    rc={\n",
    "        \"figure.figsize\": (7.0, 3.5),\n",
    "        \"savefig.dpi\": 300,\n",
    "        \"figure.autolayout\": True,\n",
    "    },\n",
    ")\n",
    "\n",
    "\n",
    "csv_path = Path(\"../figures\")\n",
    "csv_name = \"wandb_export_2024-09-14T16_03_51.955-04_00.csv\""
   ]
  },
  {
   "cell_type": "markdown",
   "metadata": {},
   "source": [
    "# Load Data"
   ]
  },
  {
   "cell_type": "code",
   "execution_count": null,
   "metadata": {},
   "outputs": [],
   "source": [
    "df = pd.read_csv(csv_path / csv_name)\n",
    "df[\"reward\"] = df[\"rich-rain-982 - val/reward\"]"
   ]
  },
  {
   "cell_type": "markdown",
   "metadata": {},
   "source": [
    "# Plot"
   ]
  },
  {
   "cell_type": "code",
   "execution_count": null,
   "metadata": {},
   "outputs": [],
   "source": [
    "# Create the line plot\n",
    "sns.lineplot(\n",
    "    data=df,\n",
    "    x=\"epoch\",\n",
    "    y=\"reward\",\n",
    "    # hue=\"policy\",\n",
    "    # errorbar=\"sd\",\n",
    ")\n",
    "plt.xlabel(\"Epoch\")\n",
    "plt.xlim(0, 500)\n",
    "plt.ylabel(\"Reward\")\n",
    "# plt.title(\"Reward Comparison\")\n",
    "\n",
    "# Save the plot\n",
    "plt.savefig(csv_path / \"rl_reward_train.png\")\n",
    "plt.savefig(csv_path / \"rl_reward_train.pdf\")\n",
    "plt.show()"
   ]
  }
 ],
 "metadata": {
  "kernelspec": {
   "display_name": "motion-planning",
   "language": "python",
   "name": "python3"
  },
  "language_info": {
   "codemirror_mode": {
    "name": "ipython",
    "version": 3
   },
   "file_extension": ".py",
   "mimetype": "text/x-python",
   "name": "python",
   "nbconvert_exporter": "python",
   "pygments_lexer": "ipython3",
   "version": "3.11.8"
  }
 },
 "nbformat": 4,
 "nbformat_minor": 2
}
