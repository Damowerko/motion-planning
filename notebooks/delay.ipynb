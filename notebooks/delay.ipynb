{
 "cells": [
  {
   "cell_type": "code",
   "execution_count": null,
   "metadata": {},
   "outputs": [],
   "source": [
    "import pandas as pd\n",
    "from pathlib import Path\n",
    "import seaborn as sns\n",
    "import matplotlib.pyplot as plt\n",
    "import wandb\n",
    "\n",
    "sns.set_theme(\n",
    "    context=\"paper\",\n",
    "    style=\"ticks\",\n",
    "    font_scale=0.8,\n",
    "    rc={\n",
    "        \"figure.figsize\": (2.0, 3.5),\n",
    "        \"figure.dpi\": 100,\n",
    "        \"savefig.dpi\": 300,\n",
    "        \"text.usetex\": True,\n",
    "        \"lines.linewidth\": 0.7,\n",
    "        \"axes.linewidth\": 0.7,\n",
    "        \"axes.grid\": True,\n",
    "        \"grid.linestyle\": \"--\",\n",
    "        \"grid.linewidth\": 0.5,\n",
    "        \"pdf.fonttype\": 42,\n",
    "    },\n",
    ")"
   ]
  },
  {
   "cell_type": "code",
   "execution_count": null,
   "metadata": {},
   "outputs": [],
   "source": [
    "# old models\n",
    "# models = {\n",
    "#     \"mlp\": \"72l28hqh\",\n",
    "#     \"absolute\": \"xmyposrs\",\n",
    "#     \"rotary\": \"qxqdo1vd\",\n",
    "#     \"rotary window\": \"cbhe2s17\",\n",
    "#     \"rotary small window\": \"ba1rzptc\",\n",
    "# }\n",
    "\n",
    "# Initialize a W&B API object\n",
    "api = wandb.Api()\n",
    "\n",
    "runs = api.runs(\n",
    "    path=\"damowerko-academic/motion-planning\",\n",
    "    filters={\n",
    "        \"tags\": \"compare-encoding-4\",\n",
    "        \"state\": \"finished\",\n",
    "    },\n",
    "    order=\"-created_at\",\n",
    ")\n",
    "run_metadata = [\n",
    "    {\n",
    "        \"id\": run.id,\n",
    "        \"name\": f\"{run.config['encoding_type']} {run.config['attention_window']}\",\n",
    "        \"path\": \"/\".join(run.path),\n",
    "        \"encoding_type\": run.config[\"encoding_type\"],\n",
    "        \"attention_window\": run.config[\"attention_window\"],\n",
    "        \"encoding_period\": run.config[\"encoding_period\"],\n",
    "        \"encoding_frequencies\": run.config[\"encoding_frequencies\"],\n",
    "    }\n",
    "    for run in runs\n",
    "    if run.config[\"encoding_frequencies\"] == \"linear\"\n",
    "]\n",
    "\n",
    "data_dir = Path(\"../data/test_results\")\n",
    "for meta in run_metadata:\n",
    "    model_id = meta[\"id\"]\n",
    "    print(\n",
    "        f\"python ./scripts/test.py delay --checkpoint wandb://damowerko-academic/motion-planning/{model_id} &\"\n",
    "    )"
   ]
  },
  {
   "cell_type": "code",
   "execution_count": null,
   "metadata": {},
   "outputs": [],
   "source": [
    "dfs = []\n",
    "for meta in run_metadata:\n",
    "    df = pd.read_parquet(data_dir / meta[\"id\"] / \"delay.parquet\")\n",
    "    for k, v in meta.items():\n",
    "        df[k] = v\n",
    "    dfs.append(df)\n",
    "df = pd.concat(dfs)\n",
    "df[\"step\"] += 1\n",
    "df[\"time_s\"] = df[\"step\"]\n",
    "df.head()"
   ]
  },
  {
   "cell_type": "code",
   "execution_count": null,
   "metadata": {},
   "outputs": [],
   "source": [
    "sns.relplot(\n",
    "    data=df,\n",
    "    x=\"time_s\",\n",
    "    y=\"coverage\",\n",
    "    hue=\"delay_s\",\n",
    "    kind=\"line\",\n",
    "    errorbar=\"se\",\n",
    "    palette=\"viridis\",\n",
    "    row=\"encoding_type\",\n",
    "    col=\"attention_window\",\n",
    ")\n",
    "plt.show()"
   ]
  },
  {
   "cell_type": "code",
   "execution_count": null,
   "metadata": {},
   "outputs": [],
   "source": [
    "sns.relplot(\n",
    "    data=df[df[\"time_s\"].isin([5.0, 10.0, 15.0, 20.0])],\n",
    "    x=\"delay_s\",\n",
    "    y=\"coverage\",\n",
    "    hue=\"time_s\",\n",
    "    errorbar=\"se\",\n",
    "    kind=\"line\",\n",
    "    palette=\"viridis\",\n",
    "    col=\"encoding_type\",\n",
    "    row=\"n_agents\",\n",
    ")\n",
    "plt.show()"
   ]
  }
 ],
 "metadata": {
  "kernelspec": {
   "display_name": "motion-planning",
   "language": "python",
   "name": "python3"
  },
  "language_info": {
   "codemirror_mode": {
    "name": "ipython",
    "version": 3
   },
   "file_extension": ".py",
   "mimetype": "text/x-python",
   "name": "python",
   "nbconvert_exporter": "python",
   "pygments_lexer": "ipython3",
   "version": "3.11.8"
  }
 },
 "nbformat": 4,
 "nbformat_minor": 2
}
