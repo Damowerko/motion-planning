{
 "cells": [
  {
   "cell_type": "code",
   "execution_count": null,
   "metadata": {},
   "outputs": [],
   "source": [
    "import pandas as pd\n",
    "from pathlib import Path\n",
    "import seaborn as sns\n",
    "import matplotlib.pyplot as plt\n",
    "\n",
    "sns.set_theme(\n",
    "    context=\"paper\",\n",
    "    style=\"ticks\",\n",
    "    font_scale=0.8,\n",
    "    rc={\n",
    "        \"figure.figsize\": (2.0, 3.5),\n",
    "        \"figure.dpi\": 100,\n",
    "        \"savefig.dpi\": 300,\n",
    "        \"text.usetex\": True,\n",
    "        \"lines.linewidth\": 0.7,\n",
    "        \"axes.linewidth\": 0.7,\n",
    "        \"axes.grid\": True,\n",
    "        \"grid.linestyle\": \"--\",\n",
    "        \"grid.linewidth\": 0.5,\n",
    "        \"pdf.fonttype\": 42,\n",
    "    },\n",
    ")"
   ]
  },
  {
   "cell_type": "code",
   "execution_count": null,
   "metadata": {},
   "outputs": [],
   "source": [
    "# mlp: 72l28hqh\n",
    "# absolute: xmyposrs\n",
    "# rotary: qxqdo1vd\n",
    "# rotary window: cbhe2s17\n",
    "# rotary small window: ba1rzptc\n",
    "\n",
    "data_dir = Path(\"../data/test_results\")\n",
    "\n",
    "models = {\n",
    "    \"mlp\": \"72l28hqh\",\n",
    "    \"absolute\": \"xmyposrs\",\n",
    "    \"rotary\": \"qxqdo1vd\",\n",
    "    \"rotary window\": \"cbhe2s17\",\n",
    "    \"rotary small window\": \"ba1rzptc\",\n",
    "}\n",
    "\n",
    "for i, model_id in enumerate(models.values()):\n",
    "    print(\n",
    "        f\"python ./scripts/test.py delay --checkpoint wandb://damowerko-academic/motion-planning/{model_id}\"\n",
    "    )"
   ]
  },
  {
   "cell_type": "code",
   "execution_count": null,
   "metadata": {},
   "outputs": [],
   "source": [
    "dfs = []\n",
    "for name, id in models.items():\n",
    "    df = pd.read_parquet(data_dir / id / \"delay.parquet\")\n",
    "    df[\"model\"] = name\n",
    "    df[\"model_id\"] = id\n",
    "    dfs.append(df)\n",
    "df = pd.concat(dfs)\n",
    "df[\"step\"] += 1\n",
    "df[\"time_s\"] = df[\"step\"] * 0.1\n",
    "df.head()"
   ]
  },
  {
   "cell_type": "code",
   "execution_count": null,
   "metadata": {},
   "outputs": [],
   "source": [
    "df[\"delay_ms\"] = (df[\"delay_s\"] * 1000).astype(int)\n",
    "errorbar = \"se\""
   ]
  },
  {
   "cell_type": "code",
   "execution_count": null,
   "metadata": {},
   "outputs": [],
   "source": [
    "# sns.relplot(\n",
    "#     data=df[df[\"delay_ms\"].isin([0, 20, 25, 50, 100])],\n",
    "#     x=\"time_s\",\n",
    "#     y=\"coverage\",\n",
    "#     hue=\"delay_ms\",\n",
    "#     kind=\"line\",\n",
    "#     errorbar=errorbar,\n",
    "#     palette=\"viridis\",\n",
    "#     row=\"model\",\n",
    "#     col=\"n_agents\",\n",
    "# )\n",
    "# plt.show()"
   ]
  },
  {
   "cell_type": "code",
   "execution_count": null,
   "metadata": {},
   "outputs": [],
   "source": [
    "sns.relplot(\n",
    "    data=df[\n",
    "        df[\"delay_ms\"].isin([0, 100, 200, 300, 400, 500, 600, 700, 800, 900, 1000])\n",
    "    ],\n",
    "    x=\"time_s\",\n",
    "    y=\"coverage\",\n",
    "    hue=\"delay_ms\",\n",
    "    kind=\"line\",\n",
    "    errorbar=errorbar,\n",
    "    palette=\"viridis\",\n",
    "    row=\"model\",\n",
    "    # col=\"n_agents\",\n",
    ")\n",
    "plt.show()"
   ]
  },
  {
   "cell_type": "code",
   "execution_count": null,
   "metadata": {},
   "outputs": [],
   "source": []
  },
  {
   "cell_type": "code",
   "execution_count": null,
   "metadata": {},
   "outputs": [],
   "source": [
    "sns.relplot(\n",
    "    data=df[df[\"time_s\"].isin([5.0, 10.0, 15.0, 20.0])],\n",
    "    x=\"delay_ms\",\n",
    "    y=\"coverage\",\n",
    "    hue=\"time_s\",\n",
    "    errorbar=errorbar,\n",
    "    kind=\"line\",\n",
    "    palette=\"viridis\",\n",
    "    row=\"model\",\n",
    "    # col=\"n_agents\",\n",
    ")\n",
    "plt.show()"
   ]
  }
 ],
 "metadata": {
  "kernelspec": {
   "display_name": "motion-planning",
   "language": "python",
   "name": "python3"
  },
  "language_info": {
   "codemirror_mode": {
    "name": "ipython",
    "version": 3
   },
   "file_extension": ".py",
   "mimetype": "text/x-python",
   "name": "python",
   "nbconvert_exporter": "python",
   "pygments_lexer": "ipython3",
   "version": "3.11.8"
  }
 },
 "nbformat": 4,
 "nbformat_minor": 2
}
