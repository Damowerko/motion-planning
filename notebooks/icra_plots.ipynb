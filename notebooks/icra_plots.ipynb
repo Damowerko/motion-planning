{
 "cells": [
  {
   "cell_type": "code",
   "execution_count": null,
   "metadata": {},
   "outputs": [],
   "source": [
    "from pathlib import Path\n",
    "\n",
    "import matplotlib.pyplot as plt\n",
    "import numpy as np\n",
    "import pandas as pd\n",
    "import seaborn as sns\n",
    "\n",
    "\n",
    "# set theme\n",
    "sns.set_theme(\n",
    "    context=\"paper\",\n",
    "    style=\"ticks\",\n",
    "    # font_scale=1.0,\n",
    "    rc={\n",
    "        \"figure.figsize\": (3.5, 2.5),\n",
    "        \"figure.dpi\": 300,\n",
    "        \"savefig.dpi\": 300,\n",
    "        \"figure.autolayout\": True,\n",
    "        \"text.usetex\": True,\n",
    "        \"lines.linewidth\": 0.8,\n",
    "        \"axes.linewidth\": 0.8,\n",
    "        \"axes.grid\": True,\n",
    "        \"grid.linestyle\": \"--\",\n",
    "        \"grid.linewidth\": 0.5,\n",
    "    },\n",
    ")\n",
    "\n",
    "fig_path = Path(\"../figures\")"
   ]
  },
  {
   "cell_type": "markdown",
   "metadata": {},
   "source": [
    "# Comparison\n",
    "Compare the performance in terms of coverage and number of collisions."
   ]
  },
  {
   "cell_type": "code",
   "execution_count": null,
   "metadata": {},
   "outputs": [],
   "source": [
    "models = {\n",
    "    \"c\": \"LSAP\",\n",
    "    \"1zgs74or\": \"GNN (IL)\",\n",
    "    \"d0\": \"1-Hop\",\n",
    "    \"capt\": \"CAPT\",\n",
    "    \"j0pmfvt9\": \"GNN (RL)\",\n",
    "    \"d1\": \"2-Hop\",\n",
    "}\n",
    "df = pd.concat(\n",
    "    [\n",
    "        pd.read_parquet(f\"../data/test_results/{key}/{key}.parquet\").assign(\n",
    "            policy=policy, time=lambda x: x[\"step\"] * 0.1\n",
    "        )\n",
    "        for key, policy in models.items()\n",
    "    ]\n",
    ")"
   ]
  },
  {
   "cell_type": "code",
   "execution_count": null,
   "metadata": {},
   "outputs": [],
   "source": [
    "# Create the line plot\n",
    "plt.figure(figsize=(3.5, 3))\n",
    "g = sns.lineplot(\n",
    "    data=df,\n",
    "    x=\"time\",\n",
    "    y=\"coverage\",\n",
    "    hue=\"policy\",\n",
    "    errorbar=\"sd\",\n",
    "    palette=\"deep\",\n",
    "    linewidth=0.8,\n",
    ")\n",
    "sns.move_legend(g, \"lower right\", ncol=2, title=\"Policy\")\n",
    "plt.ylim(0, 1.02)\n",
    "plt.xlabel(\"$t$\")\n",
    "plt.ylabel(\"$c(t)$\")\n",
    "# plt.legend(loc=\"upper center\", bbox_to_anchor=(0.5, -0.15), ncol=3, frameon=False)\n",
    "plt.savefig(fig_path / \"coverage_comparison.pdf\")\n",
    "plt.show()"
   ]
  },
  {
   "cell_type": "markdown",
   "metadata": {},
   "source": [
    "# Scalability Experiments\n",
    "Vary the number of agents and their density. Report the discounted coverage. "
   ]
  },
  {
   "cell_type": "code",
   "execution_count": null,
   "metadata": {},
   "outputs": [],
   "source": [
    "gamma = 0.99\n",
    "\n",
    "df = pd.read_parquet(\"../data/scalability.parquet\")\n",
    "df[\"density\"] = (df[\"n_agents\"] / df[\"area\"]).apply(lambda d: f\"{d:.1f}\")\n",
    "df[\"discount\"] = gamma ** df[\"step\"]\n",
    "\n",
    "data: pd.DataFrame = (\n",
    "    df.groupby([\"n_agents\", \"density\", \"trial\"])\n",
    "    .apply(\n",
    "        lambda df: np.average(df[\"coverage\"], weights=df[\"discount\"]),\n",
    "        include_groups=False,\n",
    "    )\n",
    "    .rename(\"discounted_coverage\")  # type: ignore\n",
    "    .to_frame()\n",
    ")\n",
    "\n",
    "sns.relplot(\n",
    "    data=data,\n",
    "    x=\"n_agents\",\n",
    "    y=\"discounted_coverage\",\n",
    "    hue=\"density\",\n",
    "    style=\"density\",\n",
    "    markers=\"o\",\n",
    "    kind=\"line\",\n",
    "    errorbar=\"sd\",\n",
    "    aspect=1.5,\n",
    ")\n",
    "# plt.ylim(0, 1)\n",
    "plt.show()\n",
    "df.groupby(\"n_agents\")[[\"coverage\", \"collisions\"]].ag"
   ]
  }
 ],
 "metadata": {
  "kernelspec": {
   "display_name": "motion-planning",
   "language": "python",
   "name": "python3"
  },
  "language_info": {
   "codemirror_mode": {
    "name": "ipython",
    "version": 3
   },
   "file_extension": ".py",
   "mimetype": "text/x-python",
   "name": "python",
   "nbconvert_exporter": "python",
   "pygments_lexer": "ipython3",
   "version": "3.11.8"
  }
 },
 "nbformat": 4,
 "nbformat_minor": 2
}
