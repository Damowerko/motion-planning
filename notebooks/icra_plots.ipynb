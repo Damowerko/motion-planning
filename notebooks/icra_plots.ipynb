{
 "cells": [
  {
   "cell_type": "code",
   "execution_count": null,
   "metadata": {},
   "outputs": [],
   "source": [
    "from pathlib import Path\n",
    "\n",
    "import matplotlib.pyplot as plt\n",
    "import numpy as np\n",
    "import pandas as pd\n",
    "import seaborn as sns\n",
    "import wandb\n",
    "\n",
    "api = wandb.Api()\n",
    "\n",
    "\n",
    "# set theme\n",
    "sns.set_theme(\n",
    "    context=\"paper\",\n",
    "    style=\"ticks\",\n",
    "    font_scale=0.8,\n",
    "    rc={\n",
    "        \"figure.figsize\": (3.5, 2.0),\n",
    "        \"figure.dpi\": 300,\n",
    "        \"savefig.dpi\": 300,\n",
    "        \"text.usetex\": True,\n",
    "        \"lines.linewidth\": 0.7,\n",
    "        \"axes.linewidth\": 0.7,\n",
    "        \"axes.grid\": True,\n",
    "        \"grid.linestyle\": \"--\",\n",
    "        \"grid.linewidth\": 0.5,\n",
    "        \"pdf.fonttype\": 42,\n",
    "    },\n",
    ")\n",
    "\n",
    "fig_path = Path(\"../figures\")"
   ]
  },
  {
   "cell_type": "markdown",
   "metadata": {},
   "source": [
    "# Comparison\n",
    "Compare the performance in terms of coverage and number of collisions."
   ]
  },
  {
   "cell_type": "code",
   "execution_count": null,
   "metadata": {},
   "outputs": [],
   "source": [
    "models = {\n",
    "    \"c\": \"LSAP\",\n",
    "    \"1zgs74or\": \"GNN (IL)\",\n",
    "    \"d0\": \"0-Hop\",\n",
    "    \"capt\": \"CAPT\",\n",
    "    \"lo49pixb\": \"GNN (RL)\",\n",
    "    \"d1\": \"1-Hop\",\n",
    "}\n",
    "df = pd.concat(\n",
    "    [\n",
    "        pd.read_parquet(f\"../data/test_results/{key}/{key}.parquet\").assign(\n",
    "            policy=policy, time=lambda x: x[\"step\"] * 0.1\n",
    "        )\n",
    "        for key, policy in models.items()\n",
    "    ]\n",
    ")\n",
    "# df[\"collisions\"] /= 200\n",
    "# df[\"near_collisions\"] *= 200"
   ]
  },
  {
   "cell_type": "code",
   "execution_count": null,
   "metadata": {},
   "outputs": [],
   "source": [
    "df[\"discount\"] = 0.99 ** df[\"step\"]\n",
    "df_comparison = (\n",
    "    (\n",
    "        df.groupby([\"policy\", \"trial\"])\n",
    "        .apply(\n",
    "            lambda df: np.average(df[\"coverage\"], weights=df[\"discount\"]),\n",
    "            include_groups=False,\n",
    "        )\n",
    "        .rename(\"discounted_coverage\")  # type: ignore\n",
    "        .to_frame()\n",
    "    )\n",
    "    .join(df.groupby([\"policy\", \"trial\"])[[\"collisions\", \"near_collisions\"]].sum())\n",
    "    .groupby(\"policy\")\n",
    "    .mean()\n",
    "    .style.format(\"{:.2f}\")\n",
    ")\n",
    "print(df_comparison.to_latex())\n",
    "df_comparison"
   ]
  },
  {
   "cell_type": "code",
   "execution_count": null,
   "metadata": {},
   "outputs": [],
   "source": [
    "# Create the line plot\n",
    "plt.figure()\n",
    "g = sns.lineplot(\n",
    "    data=df,\n",
    "    x=\"time\",\n",
    "    y=\"coverage\",\n",
    "    hue=\"policy\",\n",
    "    errorbar=\"sd\",\n",
    "    palette=\"deep\",\n",
    "    linewidth=0.8,\n",
    ")\n",
    "sns.move_legend(g, \"lower right\", ncol=2, title=\"Policy\")\n",
    "plt.ylim(0.1, 1.05)\n",
    "plt.xlabel(\"Time\")\n",
    "plt.ylabel(\"Success Rate\")\n",
    "plt.savefig(fig_path / \"coverage_comparison.pdf\", bbox_inches=\"tight\")\n",
    "plt.show()"
   ]
  },
  {
   "cell_type": "markdown",
   "metadata": {},
   "source": [
    "# Scalability Experiments\n",
    "Vary the number of agents and their density. Report the discounted coverage. "
   ]
  },
  {
   "cell_type": "code",
   "execution_count": null,
   "metadata": {},
   "outputs": [],
   "source": [
    "df = pd.read_parquet(\"../data/scalability.parquet\").sort_values(\n",
    "    [\"n_agents\", \"area\"], ascending=False\n",
    ")\n",
    "df[\"density\"] = (df[\"n_agents\"] / df[\"area\"]).round(1).apply(lambda x: f\"{x:.1f}\")\n",
    "df[\"time\"] = df[\"step\"] * 0.1"
   ]
  },
  {
   "cell_type": "markdown",
   "metadata": {},
   "source": [
    "## Only vary the number of agents, keep density at 1.0"
   ]
  },
  {
   "cell_type": "code",
   "execution_count": null,
   "metadata": {},
   "outputs": [],
   "source": [
    "# Number of Agents at Density = 1.0 agents per meter squared\n",
    "plt.figure()\n",
    "g = sns.lineplot(\n",
    "    data=(\n",
    "        df.assign(n_agents=df[\"n_agents\"].apply(lambda x: f\"{x:d}\")).query(\n",
    "            \"density=='1.0'\"\n",
    "        )\n",
    "    ),\n",
    "    x=\"time\",\n",
    "    y=\"coverage\",\n",
    "    hue=\"n_agents\",\n",
    "    palette=\"rocket_r\",\n",
    "    linewidth=0.8,\n",
    "    errorbar=None,\n",
    ")\n",
    "sns.move_legend(g, \"lower right\", ncol=1, title=\"\\# of Agents\")\n",
    "plt.ylim(0.50, 1.0)\n",
    "plt.xlabel(\"Time\")\n",
    "plt.ylabel(\"Success Rate\")\n",
    "# plt.legend(loc=\"upper center\", bbox_to_anchor=(0.5, -0.15), ncol=3, frameon=False)\n",
    "plt.savefig(fig_path / \"generalize_scale.pdf\", bbox_inches=\"tight\")\n",
    "plt.show()"
   ]
  },
  {
   "cell_type": "code",
   "execution_count": null,
   "metadata": {},
   "outputs": [],
   "source": [
    "collisions = (\n",
    "    df.query(\"density=='1.0'\")\n",
    "    .groupby([\"n_agents\", \"trial\"])[\"collisions\"]\n",
    "    .sum()\n",
    "    .groupby(\"n_agents\")\n",
    "    .mean()\n",
    ")\n",
    "# normalize to number of agents\n",
    "collisions / collisions.index * 100"
   ]
  },
  {
   "cell_type": "markdown",
   "metadata": {},
   "source": [
    "## Vary the density only, n_agents = 100"
   ]
  },
  {
   "cell_type": "code",
   "execution_count": null,
   "metadata": {},
   "outputs": [],
   "source": [
    "# Number of Agents at Density = 1.0 agents per meter squared\n",
    "plt.figure()\n",
    "g = sns.lineplot(\n",
    "    data=df.query(\"n_agents==100\").sort_values(\"area\", ascending=True),\n",
    "    x=\"time\",\n",
    "    y=\"coverage\",\n",
    "    hue=\"density\",\n",
    "    style=\"density\",\n",
    "    palette=\"mako\",\n",
    "    linewidth=0.8,\n",
    "    errorbar=\"sd\",\n",
    ")\n",
    "sns.move_legend(g, \"lower right\", ncol=1, title=\"Agent Density\")\n",
    "plt.ylim(0.5, 1.0)\n",
    "plt.xlabel(\"Time\")\n",
    "plt.ylabel(\"Success Rate\")\n",
    "# plt.legend(loc=\"upper center\", bbox_to_anchor=(0.5, -0.15), ncol=3, frameon=False)\n",
    "plt.savefig(fig_path / \"generalize_density.pdf\", bbox_inches=\"tight\")\n",
    "plt.show()"
   ]
  },
  {
   "cell_type": "code",
   "execution_count": null,
   "metadata": {},
   "outputs": [],
   "source": [
    "df.query(\"n_agents==100\").groupby([\"density\", \"trial\"])[\"collisions\"].sum().groupby(\n",
    "    \"density\"\n",
    ").mean()"
   ]
  },
  {
   "cell_type": "markdown",
   "metadata": {},
   "source": [
    "## Now vary both number of agents and density, report coverage"
   ]
  },
  {
   "cell_type": "code",
   "execution_count": null,
   "metadata": {},
   "outputs": [],
   "source": [
    "gamma = 0.99\n",
    "df[\"discount\"] = gamma ** df[\"step\"]\n",
    "\n",
    "data: pd.DataFrame = (\n",
    "    df.groupby([\"n_agents\", \"density\", \"trial\"])\n",
    "    .apply(\n",
    "        lambda df: np.average(df[\"coverage\"], weights=df[\"discount\"]),\n",
    "        include_groups=False,\n",
    "    )\n",
    "    .rename(\"discounted_coverage\")  # type: ignore\n",
    "    .to_frame()\n",
    "    .sort_values(\"density\", ascending=False)\n",
    ")\n",
    "\n",
    "\n",
    "# Number of Agents at Density = 1.0 agents per meter squared\n",
    "plt.figure()\n",
    "g = sns.lineplot(\n",
    "    data=data,\n",
    "    x=\"n_agents\",\n",
    "    y=\"discounted_coverage\",\n",
    "    hue=\"density\",\n",
    "    style=\"density\",\n",
    "    markers=\".\",\n",
    "    errorbar=\"sd\",\n",
    "    palette=\"mako\",\n",
    ")\n",
    "sns.move_legend(g, \"lower right\", title=\"Agent Density\")\n",
    "# plt.ylim(0.80, 0.95)\n",
    "plt.xlabel(\"\\# of Agents\")\n",
    "plt.ylabel(\"Average Discounted Success Rate\")\n",
    "plt.savefig(fig_path / \"generalize_scale_density.pdf\", bbox_inches=\"tight\")\n",
    "plt.show()"
   ]
  },
  {
   "cell_type": "code",
   "execution_count": null,
   "metadata": {},
   "outputs": [],
   "source": [
    "data: pd.DataFrame = (\n",
    "    df.groupby([\"n_agents\", \"density\", \"trial\"])[\"collisions\"]\n",
    "    .sum()\n",
    "    .groupby([\"n_agents\", \"density\"])\n",
    "    .mean()\n",
    "    .reset_index()\n",
    "    .pivot(index=\"density\", columns=\"n_agents\", values=\"collisions\")\n",
    ")\n",
    "print(data.style.format(\"{:.2f}\").to_latex())"
   ]
  },
  {
   "cell_type": "code",
   "execution_count": null,
   "metadata": {},
   "outputs": [],
   "source": [
    "data = (\n",
    "    df.groupby([\"n_agents\", \"density\", \"trial\"])[\"collisions\"]\n",
    "    .sum()\n",
    "    .groupby([\"n_agents\", \"density\"])\n",
    "    .mean()\n",
    "    .reset_index()\n",
    ")\n",
    "data[\"collisions\"] *= 100 / data[\"n_agents\"]\n",
    "print(data.pivot(index=\"density\", columns=\"n_agents\").to_latex(float_format=\"%0.2f\"))"
   ]
  },
  {
   "cell_type": "code",
   "execution_count": null,
   "metadata": {},
   "outputs": [],
   "source": [
    "for id, name in zip(\n",
    "    [\"wh6kuxhs\", \"9pmses8z\"], [\"imitation_learning\", \"reinforcement_learning\"]\n",
    "):\n",
    "\n",
    "    run = api.run(f\"test-team-12/motion-planning/{id}\")\n",
    "    columns = [\"val/coverage\", \"val/reward\", \"val/n_collisions\", \"epoch\"]\n",
    "    df_run = run.history(keys=columns)[columns]\n",
    "    # apply a rolling window\n",
    "    df_run = df_run.set_index(\"epoch\").rolling(9).mean().reset_index(drop=False)\n",
    "\n",
    "    palette = sns.color_palette(\"deep\")\n",
    "\n",
    "    plt.figure()\n",
    "    sns.lineplot(\n",
    "        data=df_run.melt(\n",
    "            id_vars=\"epoch\", value_vars=[\"val/coverage\", \"val/n_collisions\"]\n",
    "        ),\n",
    "        x=\"epoch\",\n",
    "        y=\"value\",\n",
    "        hue=\"variable\",\n",
    "        errorbar=None,\n",
    "    )\n",
    "    plt.legend([\"Success Rate\", \"Collisions\"], title=None, loc=\"center right\")\n",
    "    plt.ylabel(\"Success Rate / Collisions\")\n",
    "    plt.xlabel(\"Epoch\")\n",
    "    plt.ylim(0, 1.0)\n",
    "\n",
    "    plt.savefig(fig_path / f\"{name}.pdf\", bbox_inches=\"tight\")\n",
    "    plt.show()"
   ]
  }
 ],
 "metadata": {
  "kernelspec": {
   "display_name": "motion-planning",
   "language": "python",
   "name": "python3"
  },
  "language_info": {
   "codemirror_mode": {
    "name": "ipython",
    "version": 3
   },
   "file_extension": ".py",
   "mimetype": "text/x-python",
   "name": "python",
   "nbconvert_exporter": "python",
   "pygments_lexer": "ipython3",
   "version": "3.11.8"
  }
 },
 "nbformat": 4,
 "nbformat_minor": 2
}
